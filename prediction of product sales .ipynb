{
  "nbformat": 4,
  "nbformat_minor": 0,
  "metadata": {
    "colab": {
      "provenance": [],
      "authorship_tag": "ABX9TyPCLcrYp9rw9tg359REwdt0",
      "include_colab_link": true
    },
    "kernelspec": {
      "name": "python3",
      "display_name": "Python 3"
    },
    "language_info": {
      "name": "python"
    }
  },
  "cells": [
    {
      "cell_type": "markdown",
      "metadata": {
        "id": "view-in-github",
        "colab_type": "text"
      },
      "source": [
        "<a href=\"https://colab.research.google.com/github/elleniayele/prediction-of-product-sales/blob/main/prediction%20of%20product%20sales%20.ipynb\" target=\"_parent\"><img src=\"https://colab.research.google.com/assets/colab-badge.svg\" alt=\"Open In Colab\"/></a>"
      ]
    },
    {
      "cell_type": "markdown",
      "source": [
        "#Prediction Of Product Cells\n",
        " Elleni\n",
        "\n",
        "\n",
        "## Project Overview\n",
        "<br>\n",
        "\n",
        "## Load And Inspect Data\n",
        "\n"
      ],
      "metadata": {
        "id": "GXkWgZraHSz_"
      }
    },
    {
      "cell_type": "code",
      "source": [],
      "metadata": {
        "id": "650nLsMldP9L"
      },
      "execution_count": null,
      "outputs": []
    },
    {
      "cell_type": "markdown",
      "source": [
        "##Clean Data"
      ],
      "metadata": {
        "id": "GX5OeDHYdSpX"
      }
    },
    {
      "cell_type": "code",
      "source": [],
      "metadata": {
        "id": "ezyp9kUkdaly"
      },
      "execution_count": null,
      "outputs": []
    },
    {
      "cell_type": "markdown",
      "source": [
        "## Exploratory Data Analysis\n",
        "\n",
        "\n",
        "\n"
      ],
      "metadata": {
        "id": "nC7XKsK3dbI9"
      }
    },
    {
      "cell_type": "code",
      "source": [],
      "metadata": {
        "id": "ih7YUx2HdtrR"
      },
      "execution_count": null,
      "outputs": []
    },
    {
      "cell_type": "markdown",
      "source": [
        "## Explanatory Data Analysis"
      ],
      "metadata": {
        "id": "0BZ77m7edyAU"
      }
    },
    {
      "cell_type": "code",
      "source": [],
      "metadata": {
        "id": "i4kfvLu3d9jc"
      },
      "execution_count": null,
      "outputs": []
    }
  ]
}