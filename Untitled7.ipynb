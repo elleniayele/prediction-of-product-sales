{
  "nbformat": 4,
  "nbformat_minor": 0,
  "metadata": {
    "colab": {
      "provenance": [],
      "authorship_tag": "ABX9TyOYGzOA2XAGwqydMVqijKJ7",
      "include_colab_link": true
    },
    "kernelspec": {
      "name": "python3",
      "display_name": "Python 3"
    },
    "language_info": {
      "name": "python"
    }
  },
  "cells": [
    {
      "cell_type": "markdown",
      "metadata": {
        "id": "view-in-github",
        "colab_type": "text"
      },
      "source": [
        "<a href=\"https://colab.research.google.com/github/elleniayele/prediction-of-product-sales/blob/main/Untitled7.ipynb\" target=\"_parent\"><img src=\"https://colab.research.google.com/assets/colab-badge.svg\" alt=\"Open In Colab\"/></a>"
      ]
    },
    {
      "cell_type": "markdown",
      "source": [
        "#Prediction Of Product Cells\n",
        " Elleni\n",
        "\n",
        "\n",
        "## Project Overview\n",
        "<br>\n",
        "\n",
        "## Load And Inspect Data\n",
        "<br>\n",
        "\n",
        "## Exploratory Data Analysis\n",
        "<br>\n",
        "\n",
        "\n",
        "## Explanatory Data Analysis\n",
        "\n"
      ],
      "metadata": {
        "id": "GXkWgZraHSz_"
      }
    }
  ]
}